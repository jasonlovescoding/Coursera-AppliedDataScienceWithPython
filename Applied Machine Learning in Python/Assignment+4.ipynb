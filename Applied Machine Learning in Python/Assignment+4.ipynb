{
 "cells": [
  {
   "cell_type": "markdown",
   "metadata": {},
   "source": [
    "---\n",
    "\n",
    "_You are currently looking at **version 1.0** of this notebook. To download notebooks and datafiles, as well as get help on Jupyter notebooks in the Coursera platform, visit the [Jupyter Notebook FAQ](https://www.coursera.org/learn/python-machine-learning/resources/bANLa) course resource._\n",
    "\n",
    "---"
   ]
  },
  {
   "cell_type": "markdown",
   "metadata": {},
   "source": [
    "## Assignment 4 - Understanding and Predicting Property Maintenance Fines\n",
    "\n",
    "This assignment is based on a data challenge from the Michigan Data Science Team ([MDST](http://midas.umich.edu/mdst/)). \n",
    "\n",
    "The Michigan Data Science Team ([MDST](http://midas.umich.edu/mdst/)) and the Michigan Student Symposium for Interdisciplinary Statistical Sciences ([MSSISS](https://sites.lsa.umich.edu/mssiss/)) have partnered with the City of Detroit to help solve one of the most pressing problems facing Detroit - blight. [Blight violations](http://www.detroitmi.gov/How-Do-I/Report/Blight-Complaint-FAQs) are issued by the city to individuals who allow their properties to remain in a deteriorated condition. Every year, the city of Detroit issues millions of dollars in fines to residents and every year, many of these fines remain unpaid. Enforcing unpaid blight fines is a costly and tedious process, so the city wants to know: how can we increase blight ticket compliance?\n",
    "\n",
    "The first step in answering this question is understanding when and why a resident might fail to comply with a blight ticket. This is where predictive modeling comes in. For this assignment, your task is to predict whether a given blight ticket will be paid on time.\n",
    "\n",
    "All data for this assignment has been provided to us through the [Detroit Open Data Portal](https://data.detroitmi.gov/). **Only the data already included in your Coursera directory can be used for training the model for this assignment.** Nonetheless, we encourage you to look into data from other Detroit datasets to help inform feature creation and model selection. We recommend taking a look at the following related datasets:\n",
    "\n",
    "* [Building Permits](https://data.detroitmi.gov/Property-Parcels/Building-Permits/xw2a-a7tf)\n",
    "* [Trades Permits](https://data.detroitmi.gov/Property-Parcels/Trades-Permits/635b-dsgv)\n",
    "* [Improve Detroit: Submitted Issues](https://data.detroitmi.gov/Government/Improve-Detroit-Submitted-Issues/fwz3-w3yn)\n",
    "* [DPD: Citizen Complaints](https://data.detroitmi.gov/Public-Safety/DPD-Citizen-Complaints-2016/kahe-efs3)\n",
    "* [Parcel Map](https://data.detroitmi.gov/Property-Parcels/Parcel-Map/fxkw-udwf)\n",
    "\n",
    "___\n",
    "\n",
    "We provide you with two data files for use in training and validating your models: train.csv and test.csv. Each row in these two files corresponds to a single blight ticket, and includes information about when, why, and to whom each ticket was issued. The target variable is compliance, which is True if the ticket was paid early, on time, or within one month of the hearing data, False if the ticket was paid after the hearing date or not at all, and Null if the violator was found not responsible. Compliance, as well as a handful of other variables that will not be available at test-time, are only included in train.csv.\n",
    "\n",
    "Note: All tickets where the violators were found not responsible are not considered during evaluation. They are included in the training set as an additional source of data for visualization, and to enable unsupervised and semi-supervised approaches. However, they are not included in the test set.\n",
    "\n",
    "<br>\n",
    "\n",
    "**File descriptions** (Use only this data for training your model!)\n",
    "\n",
    "    train.csv - the training set (all tickets issued 2004-2011)\n",
    "    test.csv - the test set (all tickets issued 2012-2016)\n",
    "    addresses.csv & latlons.csv - mapping from ticket id to addresses, and from addresses to lat/lon coordinates. \n",
    "     Note: misspelled addresses may be incorrectly geolocated.\n",
    "\n",
    "<br>\n",
    "\n",
    "**Data fields**\n",
    "\n",
    "train.csv & test.csv\n",
    "\n",
    "    ticket_id - unique identifier for tickets\n",
    "    agency_name - Agency that issued the ticket\n",
    "    inspector_name - Name of inspector that issued the ticket\n",
    "    violator_name - Name of the person/organization that the ticket was issued to\n",
    "    violation_street_number, violation_street_name, violation_zip_code - Address where the violation occurred\n",
    "    mailing_address_str_number, mailing_address_str_name, city, state, zip_code, non_us_str_code, country - Mailing address of the violator\n",
    "    ticket_issued_date - Date and time the ticket was issued\n",
    "    hearing_date - Date and time the violator's hearing was scheduled\n",
    "    violation_code, violation_description - Type of violation\n",
    "    disposition - Judgment and judgement type\n",
    "    fine_amount - Violation fine amount, excluding fees\n",
    "    admin_fee - $20 fee assigned to responsible judgments\n",
    "state_fee - $10 fee assigned to responsible judgments\n",
    "    late_fee - 10% fee assigned to responsible judgments\n",
    "    discount_amount - discount applied, if any\n",
    "    clean_up_cost - DPW clean-up or graffiti removal cost\n",
    "    judgment_amount - Sum of all fines and fees\n",
    "    grafitti_status - Flag for graffiti violations\n",
    "    \n",
    "train.csv only\n",
    "\n",
    "    payment_amount - Amount paid, if any\n",
    "    payment_date - Date payment was made, if it was received\n",
    "    payment_status - Current payment status as of Feb 1 2017\n",
    "    balance_due - Fines and fees still owed\n",
    "    collection_status - Flag for payments in collections\n",
    "    compliance [target variable for prediction] \n",
    "     Null = Not responsible\n",
    "     0 = Responsible, non-compliant\n",
    "     1 = Responsible, compliant\n",
    "    compliance_detail - More information on why each ticket was marked compliant or non-compliant\n",
    "\n",
    "\n",
    "___\n",
    "\n",
    "## Evaluation\n",
    "\n",
    "Your predictions will be given as the probability that the corresponding blight ticket will be paid on time.\n",
    "\n",
    "The evaluation metric for this assignment is the Area Under the ROC Curve (AUC). \n",
    "\n",
    "Your grade will be based on the AUC score computed for your classifier. A model which with an AUROC of 0.7 passes this assignment, over 0.75 will recieve full points.\n",
    "___\n",
    "\n",
    "For this assignment, create a function that trains a model to predict blight ticket compliance in Detroit using `train.csv`. Using this model, return a series of length 61001 with the data being the probability that each corresponding ticket from `test.csv` will be paid, and the index being the ticket_id.\n",
    "\n",
    "Example:\n",
    "\n",
    "    ticket_id\n",
    "       284932    0.531842\n",
    "       285362    0.401958\n",
    "       285361    0.105928\n",
    "       285338    0.018572\n",
    "                 ...\n",
    "       376499    0.208567\n",
    "       376500    0.818759\n",
    "       369851    0.018528\n",
    "       Name: compliance, dtype: float32"
   ]
  },
  {
   "cell_type": "code",
   "execution_count": 1,
   "metadata": {
    "collapsed": false
   },
   "outputs": [],
   "source": [
    "import pandas as pd\n",
    "import numpy as np\n",
    "\n",
    "## load the data to process\n",
    "def load_data():\n",
    "    # load the train set\n",
    "    train_set = pd.read_csv('train.csv', encoding = \"ISO-8859-1\", low_memory=False)\n",
    "    # load the submit set\n",
    "    submit_set = pd.read_csv('test.csv', encoding = \"ISO-8859-1\", low_memory=False)\n",
    "    # drop out NaN compliance rows\n",
    "    train_set.dropna(axis = 0, how = 'any', subset = ['compliance'], inplace = True)\n",
    "    # this is the target column for training\n",
    "    y = train_set['compliance']\n",
    "    # these are columns inaccessible in real application\n",
    "    unpractical_columns = ['payment_amount', 'payment_date', 'payment_status', 'balance_due', \\\n",
    "                           'collection_status', 'compliance', 'compliance_detail']\n",
    "    # exclude these columns to avoid leakage\n",
    "    train_set.drop(unpractical_columns, axis = 1, inplace = True)\n",
    "    # concat train and submit set to avoid dismatch in dummy variables\n",
    "    X = pd.concat((train_set, submit_set))\n",
    "    return X, y"
   ]
  },
  {
   "cell_type": "code",
   "execution_count": 2,
   "metadata": {
    "collapsed": false
   },
   "outputs": [],
   "source": [
    "def feature_drop(X):\n",
    "    # inspector_name has many categories, tedious\n",
    "    #print(X['inspector_name'].unique())\n",
    "    X.drop(['inspector_name'], axis = 1, inplace = True)\n",
    "\n",
    "    # violator_name has many categories, tedious\n",
    "    #print(X['violator_name'].unique())\n",
    "    X.drop(['violator_name'], axis = 1, inplace = True)\n",
    "\n",
    "    #print(X['violation_street_name'].unique())\n",
    "    #print(X['violation_street_number'].head())\n",
    "    X.drop(['violation_street_name'], axis = 1, inplace = True)\n",
    "    X.drop(['violation_street_number'], axis = 1, inplace = True)\n",
    "\n",
    "    # violation_zip_code is basically NaN\n",
    "    #print(X['violation_zip_code'])\n",
    "    X.drop(['violation_zip_code'], axis = 1, inplace = True)\n",
    "\n",
    "    # mailing_address_str_number, mailing_address_str_name, city, state, zip_code, non_us_str_code, country\n",
    "    # address can be replaced by lat/lon coordinates\n",
    "    #print(X['mailing_address_str_number'].unique())\n",
    "    #print(X['mailing_address_str_name'].unique())\n",
    "    #print(X['city'].unique())\n",
    "    #print(X['state'].unique())\n",
    "    #print(X['zip_code'].unique())\n",
    "    #print(X['non_us_str_code'].unique())\n",
    "    #print(X['country'].unique())\n",
    "\n",
    "    X.drop(['mailing_address_str_number'], axis = 1, inplace = True)\n",
    "    X.drop(['mailing_address_str_name'], axis = 1, inplace = True)\n",
    "    X.drop(['city'], axis = 1, inplace = True)\n",
    "    X.drop(['state'], axis = 1, inplace = True)\n",
    "    X.drop(['zip_code'], axis = 1, inplace = True)\n",
    "    X.drop(['non_us_str_code'], axis = 1, inplace = True)\n",
    "    X.drop(['country'], axis = 1, inplace = True)\n",
    "\n",
    "    # ticket_issued_date, string to be replaced by datetime ? drop\n",
    "    #dt = X['ticket_issued_date'].apply(string2datetime)\n",
    "    #X = X.join(dt)\n",
    "    #print(dt.head())\n",
    "    X.drop(['ticket_issued_date'], axis = 1, inplace = True)\n",
    "    \n",
    "    #print(X.head())\n",
    "\n",
    "    # hearing_date, string to be replaced by datetime ? drop\n",
    "    #dt = X['hearing_date'].apply(string2datetime)\n",
    "    #X = X.join(dt)\n",
    "    X.drop(['hearing_date'], axis = 1, inplace = True)   \n",
    "\n",
    "    # violation_description is redundant given violation_code\n",
    "    X.drop(['violation_description'], axis = 1, inplace = True)\n",
    "\n",
    "    # grafitti_status is basically nan\n",
    "    #print(X['grafitti_status'].unique())\n",
    "    X.drop(['grafitti_status'], axis = 1, inplace = True)\n",
    "    return X"
   ]
  },
  {
   "cell_type": "code",
   "execution_count": 3,
   "metadata": {
    "collapsed": true
   },
   "outputs": [],
   "source": [
    "def vio_code(X):\n",
    "    # the violation_code has quite a few categories, but maybe useful as dummies\n",
    "    #print(X['violation_code'].unique())\n",
    "    X = pd.concat([X, pd.get_dummies(X['violation_code']).astype(np.int8)], axis=1)\n",
    "    X.drop(['violation_code'], axis = 1, inplace = True)\n",
    "    return X"
   ]
  },
  {
   "cell_type": "code",
   "execution_count": 4,
   "metadata": {
    "collapsed": true
   },
   "outputs": [],
   "source": [
    "def agency_name(X):\n",
    "    # agency_name has few categories, maybe useful as dummies\n",
    "    #print(X['agency_name'].unique())\n",
    "    X = pd.concat([X, pd.get_dummies(X['agency_name']).astype(np.int8)], axis=1)\n",
    "    X.drop(['agency_name'], axis = 1, inplace = True)\n",
    "    return X"
   ]
  },
  {
   "cell_type": "code",
   "execution_count": 5,
   "metadata": {
    "collapsed": true
   },
   "outputs": [],
   "source": [
    "def latlon(X):        \n",
    "    # ticket_id to address\n",
    "    addresses = pd.read_csv('addresses.csv', encoding = \"ISO-8859-1\")\n",
    "    addresses.set_index('ticket_id', inplace = True)\n",
    "    # address to lat/lon\n",
    "    latlons = pd.read_csv('latlons.csv', encoding = \"ISO-8859-1\")\n",
    "    latlons.set_index('address', inplace = True)\n",
    "    \n",
    "    # violation_street_name/violation_street_number can be replaced by lat/lon coordinates\n",
    "    #print(X['violation_street_name'].unique().size)\n",
    "    #print(X['violation_street_number'].unique().size)\n",
    "    #print(addresses.head())\n",
    "    #print(latlons.head())\n",
    "    address = X['ticket_id'].apply(lambda x : addresses.loc[x])\n",
    "    #print(address.head())\n",
    "\n",
    "    lat = address.applymap(lambda x : latlons.loc[x]['lat'])\n",
    "    lon = address.applymap(lambda x : latlons.loc[x]['lon'])\n",
    "    lat.columns = ['lat']\n",
    "    lon.columns = ['lon']\n",
    "    #print(lat.head())\n",
    "    #print(lon.head())\n",
    "    X = pd.concat([X, lat, lon], axis=1)  \n",
    "    return X"
   ]
  },
  {
   "cell_type": "code",
   "execution_count": 6,
   "metadata": {
    "collapsed": false
   },
   "outputs": [],
   "source": [
    "def disp_and_na(X):\n",
    "    # disposition has few categories, maybe useful as dummies\n",
    "    #print(X['disposition'].unique())   \n",
    "    X = pd.concat([X, pd.get_dummies(X['disposition']).astype(np.int8)], axis=1)\n",
    "    X.drop(['disposition'], axis = 1, inplace = True)\n",
    "    # fill the nan with mean\n",
    "    X.fillna(X.mean(), inplace = True)\n",
    "    return X"
   ]
  },
  {
   "cell_type": "code",
   "execution_count": 18,
   "metadata": {
    "collapsed": true
   },
   "outputs": [],
   "source": [
    "## train models\n",
    "def train(X, y):\n",
    "    # using random forest as baseline\n",
    "    from sklearn.ensemble import RandomForestClassifier\n",
    "    from sklearn.model_selection import train_test_split\n",
    "    from sklearn.model_selection import GridSearchCV\n",
    "    from sklearn.metrics import roc_auc_score\n",
    "    grid_values = {'n_estimators': [50, 100, 400, 800]}\n",
    "    clf = RandomForestClassifier(random_state = 0, n_jobs = 4)\n",
    "    grid_clf = GridSearchCV(clf, param_grid = grid_values, scoring = 'roc_auc', cv = 3)\n",
    "    \n",
    "    X_train, X_test, y_train, y_test = train_test_split(X, y, random_state = 0)   \n",
    "    \n",
    "    grid_clf.fit(X_train, y_train)\n",
    "    \n",
    "    print(grid_clf.cv_results_['mean_test_score'])   \n",
    "    print(\"test score:{:.2f}\".format(roc_auc_score(grid_clf.predict_proba(X_test), y_test)))\n",
    "    return grid_clf"
   ]
  },
  {
   "cell_type": "code",
   "execution_count": 9,
   "metadata": {
    "collapsed": false
   },
   "outputs": [],
   "source": [
    "X, y = load_data()"
   ]
  },
  {
   "cell_type": "code",
   "execution_count": 10,
   "metadata": {
    "collapsed": true
   },
   "outputs": [],
   "source": [
    "X = feature_drop(X)"
   ]
  },
  {
   "cell_type": "code",
   "execution_count": 11,
   "metadata": {
    "collapsed": true
   },
   "outputs": [],
   "source": [
    "X = vio_code(X)"
   ]
  },
  {
   "cell_type": "code",
   "execution_count": 12,
   "metadata": {
    "collapsed": true
   },
   "outputs": [],
   "source": [
    "X = agency_name(X)"
   ]
  },
  {
   "cell_type": "code",
   "execution_count": 13,
   "metadata": {
    "collapsed": false
   },
   "outputs": [],
   "source": [
    "X = latlon(X)"
   ]
  },
  {
   "cell_type": "code",
   "execution_count": 14,
   "metadata": {
    "collapsed": false
   },
   "outputs": [],
   "source": [
    "X = disp_and_na(X)"
   ]
  },
  {
   "cell_type": "code",
   "execution_count": 15,
   "metadata": {
    "collapsed": false
   },
   "outputs": [
    {
     "name": "stdout",
     "output_type": "stream",
     "text": [
      "   ticket_id  fine_amount  admin_fee  state_fee  late_fee  discount_amount  \\\n",
      "0      22056        250.0       20.0       10.0      25.0              0.0   \n",
      "1      27586        750.0       20.0       10.0      75.0              0.0   \n",
      "5      22046        250.0       20.0       10.0      25.0              0.0   \n",
      "6      18738        750.0       20.0       10.0      75.0              0.0   \n",
      "7      18735        100.0       20.0       10.0      10.0              0.0   \n",
      "\n",
      "   clean_up_cost  judgment_amount  19410901  19420901  \\\n",
      "0            0.0            305.0         0         0   \n",
      "1            0.0            855.0         0         0   \n",
      "5            0.0            305.0         0         0   \n",
      "6            0.0            855.0         0         0   \n",
      "7            0.0            140.0         0         0   \n",
      "\n",
      "             ...                   lat        lon  \\\n",
      "0            ...             42.390729 -83.124268   \n",
      "1            ...             42.326937 -83.135118   \n",
      "5            ...             42.145257 -83.208233   \n",
      "6            ...             42.433466 -83.023493   \n",
      "7            ...             42.388641 -83.037858   \n",
      "\n",
      "   Responsible (Fine Waived) by Admis  Responsible (Fine Waived) by Deter  \\\n",
      "0                                   0                                   0   \n",
      "1                                   0                                   0   \n",
      "5                                   0                                   0   \n",
      "6                                   0                                   0   \n",
      "7                                   0                                   0   \n",
      "\n",
      "   Responsible - Compl/Adj by Default  Responsible - Compl/Adj by Determi  \\\n",
      "0                                   0                                   0   \n",
      "1                                   0                                   0   \n",
      "5                                   0                                   0   \n",
      "6                                   0                                   0   \n",
      "7                                   0                                   0   \n",
      "\n",
      "   Responsible by Admission  Responsible by Default  \\\n",
      "0                         0                       1   \n",
      "1                         0                       0   \n",
      "5                         0                       1   \n",
      "6                         0                       1   \n",
      "7                         0                       1   \n",
      "\n",
      "   Responsible by Determination  Responsible by Dismissal  \n",
      "0                             0                         0  \n",
      "1                             1                         0  \n",
      "5                             0                         0  \n",
      "6                             0                         0  \n",
      "7                             0                         0  \n",
      "\n",
      "[5 rows x 246 columns]\n"
     ]
    }
   ],
   "source": [
    "print(X.head())"
   ]
  },
  {
   "cell_type": "code",
   "execution_count": 16,
   "metadata": {
    "collapsed": false
   },
   "outputs": [],
   "source": [
    "X_train_set = X[:len(y.index)]\n",
    "X_submit_set = X[len(y.index):]"
   ]
  },
  {
   "cell_type": "code",
   "execution_count": 17,
   "metadata": {
    "collapsed": false
   },
   "outputs": [
    {
     "name": "stdout",
     "output_type": "stream",
     "text": [
      "[ 0.75198432  0.79345634  0.79922181  0.80049898]\n",
      "test score:0.80\n"
     ]
    }
   ],
   "source": [
    "grid_clf = train(X_train_set, y)"
   ]
  },
  {
   "cell_type": "code",
   "execution_count": 20,
   "metadata": {
    "collapsed": true
   },
   "outputs": [],
   "source": [
    "y_submit = [proba[1] for proba in grid_clf.predict_proba(X_submit_set)]"
   ]
  },
  {
   "cell_type": "code",
   "execution_count": 1,
   "metadata": {
    "collapsed": false
   },
   "outputs": [],
   "source": [
    "#print(y_submit)"
   ]
  },
  {
   "cell_type": "code",
   "execution_count": 2,
   "metadata": {
    "collapsed": false
   },
   "outputs": [],
   "source": [
    "#print(X_submit_set['ticket_id'].tolist())"
   ]
  },
  {
   "cell_type": "code",
   "execution_count": 1,
   "metadata": {
    "collapsed": true
   },
   "outputs": [],
   "source": [
    "def blight_model():\n",
    "    submit = pd.Series(data = y_submit, index = X_submit_set['ticket_id'], name = 'compliance')\n",
    "    return submit"
   ]
  }
 ],
 "metadata": {
  "anaconda-cloud": {},
  "coursera": {
   "course_slug": "python-machine-learning",
   "graded_item_id": "nNS8l",
   "launcher_item_id": "yWWk7",
   "part_id": "w8BSS"
  },
  "kernelspec": {
   "display_name": "Python [conda root]",
   "language": "python",
   "name": "conda-root-py"
  },
  "language_info": {
   "codemirror_mode": {
    "name": "ipython",
    "version": 3
   },
   "file_extension": ".py",
   "mimetype": "text/x-python",
   "name": "python",
   "nbconvert_exporter": "python",
   "pygments_lexer": "ipython3",
   "version": "3.5.2"
  }
 },
 "nbformat": 4,
 "nbformat_minor": 2
}
