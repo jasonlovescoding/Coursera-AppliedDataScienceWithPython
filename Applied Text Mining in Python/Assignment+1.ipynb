{
 "cells": [
  {
   "cell_type": "markdown",
   "metadata": {},
   "source": [
    "---\n",
    "\n",
    "_You are currently looking at **version 1.0** of this notebook. To download notebooks and datafiles, as well as get help on Jupyter notebooks in the Coursera platform, visit the [Jupyter Notebook FAQ](https://www.coursera.org/learn/python-text-mining/resources/d9pwm) course resource._\n",
    "\n",
    "---"
   ]
  },
  {
   "cell_type": "markdown",
   "metadata": {},
   "source": [
    "# Assignment 1\n",
    "\n",
    "In this assignment, you'll be working with messy medical data and using regex to extract relevant infromation from the data. \n",
    "\n",
    "Each line of the `dates.txt` file corresponds to a medical note. Each note has a date that needs to be extracted, but each date is encoded in one of many formats.\n",
    "\n",
    "The goal of this assignment is to correctly identify all of the different date variants encoded in this dataset and to properly normalize and sort the dates. \n",
    "\n",
    "Here is a list of some of the variants you might encounter in this dataset:\n",
    "* 04/20/2009; 04/20/09; 4/20/09; 4/3/09\n",
    "* Mar-20-2009; Mar 20, 2009; March 20, 2009;  Mar. 20, 2009; Mar 20 2009;\n",
    "* 20 Mar 2009; 20 March 2009; 20 Mar. 2009; 20 March, 2009\n",
    "* Mar 20th, 2009; Mar 21st, 2009; Mar 22nd, 2009\n",
    "* Feb 2009; Sep 2009; Oct 2010\n",
    "* 6/2008; 12/2009\n",
    "* 2009; 2010\n",
    "\n",
    "Once you have extracted these date patterns from the text, the next step is to sort them in ascending chronological order accoring to the following rules:\n",
    "* Assume all dates in xx/xx/xx format are mm/dd/yy\n",
    "* Assume all dates where year is encoded in only two digits are years from the 1900's (e.g. 1/5/89 is January 5th, 1989)\n",
    "* If the day is missing (e.g. 9/2009), assume it is the first day of the month (e.g. September 1, 2009).\n",
    "* If the month is missing (e.g. 2010), assume it is the first of January of that year (e.g. January 1, 2010).\n",
    "\n",
    "With these rules in mind, find the correct date in each note and return a pandas Series in chronological order of the original Series' indices.\n",
    "\n",
    "For example if the original series was this:\n",
    "\n",
    "    0    1999\n",
    "    1    2010\n",
    "    2    1978\n",
    "    3    2015\n",
    "    4    1985\n",
    "\n",
    "Your function should return this:\n",
    "\n",
    "    0    2\n",
    "    1    4\n",
    "    2    0\n",
    "    3    1\n",
    "    4    3\n",
    "\n",
    "Your score will be calculated using [Kendall's tau](https://en.wikipedia.org/wiki/Kendall_rank_correlation_coefficient), a correlation measure for ordinal data.\n",
    "\n",
    "*This function should return a Series of length 500 and dtype int.*"
   ]
  },
  {
   "cell_type": "code",
   "execution_count": 1,
   "metadata": {
    "collapsed": true
   },
   "outputs": [],
   "source": [
    "import pandas as pd\n",
    "\n",
    "doc = []\n",
    "with open('dates.txt') as file:\n",
    "    for line in file:\n",
    "        doc.append(line)\n",
    "df = pd.Series(doc)"
   ]
  },
  {
   "cell_type": "code",
   "execution_count": 123,
   "metadata": {
    "collapsed": true
   },
   "outputs": [],
   "source": [
    "mm = ['Jan', 'Feb', 'Mar', 'Apr', 'May', 'Jun', 'Jul', 'Aug', 'Sep', 'Oct', 'Nov', 'Dec']"
   ]
  },
  {
   "cell_type": "code",
   "execution_count": 175,
   "metadata": {
    "collapsed": true
   },
   "outputs": [],
   "source": [
    "# 04/20/2009; 04/20/09; 4/20/09; 4/3/09; 4-13-82\n",
    "d1 = df.str.extractall(r'(?P<mm>\\d{1,2})(?:[-/])(?P<dd>\\d{1,2})(?:[-/])(?P<yy>\\d{4}|\\d{2})(?:\\D)')\n",
    "# drop 2nd level index (match)\n",
    "d1 = d1.reset_index(level=1, drop=True)"
   ]
  },
  {
   "cell_type": "code",
   "execution_count": 176,
   "metadata": {},
   "outputs": [],
   "source": [
    "# Mar-20-2009; Mar 20, 2009; March 20, 2009; Mar. 20, 2009; Mar 20 2009\n",
    "d2 = df.str.extractall(r\"(?P<mm>\"+'|'.join(mm) + r')(?:[a-z]*)(?:\\s|-|. )(?P<dd>\\d{0,2})(?:\\s|\\-|, )(?P<yy>\\d{4})')\n",
    "d2 = d2.reset_index(level=1, drop=True)"
   ]
  },
  {
   "cell_type": "code",
   "execution_count": 223,
   "metadata": {
    "collapsed": true
   },
   "outputs": [],
   "source": [
    "# 2 Mar 2009; 20 March 2009; 20 Mar. 2009; 20 March, 2009\n",
    "d3 = df.str.extractall(r'(?P<dd>\\d{1,2})\\s' + r\"(?P<mm>\"+'|'.join(mm) + r')(?:[a-z]*)(?:\\s|-|. |, )(?P<yy>\\d{4})')\n",
    "d3 = d3.reset_index(level=1, drop=True)"
   ]
  },
  {
   "cell_type": "code",
   "execution_count": 272,
   "metadata": {},
   "outputs": [],
   "source": [
    "# Mar 20th, 2009; Mar 21st, 2009; March 22nd, 2009\n",
    "d4 = df.str.extractall(r'(?P<mm>'+'|'.join(mm) + r')(?:[a-z]*)\\s(?P<dd>\\d{0,2})(?:[a-z]{2}), (?P<yy>\\d{4})')\n",
    "d4 = d4.reset_index(level=1, drop=True)"
   ]
  },
  {
   "cell_type": "code",
   "execution_count": 226,
   "metadata": {},
   "outputs": [],
   "source": [
    "# Feb 2009; Sep 2009; Oct 2010; December 1998; March, 2006; January 1993 (exclude the patterns from d3)\n",
    "d5 = df[~df.index.isin(d3.index)].str.extractall(r\"(?P<mm>\"+'|'.join(mm) + r')(?:[a-z]*)(?:\\s|, | )(?P<yy>\\d{4})')\n",
    "d5 = d5.reset_index(level=1, drop=True)"
   ]
  },
  {
   "cell_type": "code",
   "execution_count": 227,
   "metadata": {},
   "outputs": [],
   "source": [
    "# 6/2008; 12/2009 (exclude the patterns from d1)\n",
    "d6 = df[~df.index.isin(d1.index)].str.extractall(r'(?P<mm>\\d{1,2})/(?P<yy>\\d{4})')\n",
    "d6 = d6.reset_index(level=1, drop=True)"
   ]
  },
  {
   "cell_type": "code",
   "execution_count": 228,
   "metadata": {},
   "outputs": [],
   "source": [
    "# 1984 (exclude the patterns from d1 to d6)\n",
    "d7 = df[~df.index.isin(d1.index | d2.index | d3.index | d4.index | d5.index | d6.index)].str.extractall(r'(?P<yy>\\d{4})')\n",
    "d7 = d7.reset_index(level=1, drop=True)"
   ]
  },
  {
   "cell_type": "code",
   "execution_count": 229,
   "metadata": {},
   "outputs": [
    {
     "name": "stdout",
     "output_type": "stream",
     "text": [
      "d1 & d2\tset()\n",
      "d1 & d3\tset()\n",
      "d1 & d4\tset()\n",
      "d1 & d5\tset()\n",
      "d1 & d6\tset()\n",
      "d1 & d7\tset()\n",
      "d2 & d3\tset()\n",
      "d2 & d4\tset()\n",
      "d2 & d5\tset()\n",
      "d2 & d6\tset()\n",
      "d2 & d7\tset()\n",
      "d3 & d4\tset()\n",
      "d3 & d5\tset()\n",
      "d3 & d6\tset()\n",
      "d3 & d7\tset()\n",
      "d4 & d5\tset()\n",
      "d4 & d6\tset()\n",
      "d4 & d7\tset()\n",
      "d5 & d6\tset()\n",
      "d5 & d7\tset()\n",
      "d6 & d7\tset()\n"
     ]
    }
   ],
   "source": [
    "for i in range(1,8):\n",
    "    for j in range(i+1, 8):\n",
    "        print('d{} & d{}'.format(i, j), end='\\t')\n",
    "        print(set(eval('d{}'.format(i)).index) & set(eval('d{}'.format(j)).index))"
   ]
  },
  {
   "cell_type": "code",
   "execution_count": 276,
   "metadata": {},
   "outputs": [
    {
     "data": {
      "text/plain": [
       "500"
      ]
     },
     "execution_count": 276,
     "metadata": {},
     "output_type": "execute_result"
    }
   ],
   "source": [
    "len(d1) + len(d2) + len(d3) + len(d4) + len(d5) + len(d6) + len(d7)"
   ]
  },
  {
   "cell_type": "code",
   "execution_count": 277,
   "metadata": {},
   "outputs": [
    {
     "data": {
      "text/plain": [
       "set()"
      ]
     },
     "execution_count": 277,
     "metadata": {},
     "output_type": "execute_result"
    }
   ],
   "source": [
    "set(range(500)) - (set(d1.index) | set(d2.index) | set(d3.index) | set(d4.index) | set(d5.index) | set(d6.index) | set(d7.index))"
   ]
  },
  {
   "cell_type": "code",
   "execution_count": 232,
   "metadata": {
    "collapsed": true
   },
   "outputs": [],
   "source": [
    "from datetime import datetime"
   ]
  },
  {
   "cell_type": "code",
   "execution_count": 233,
   "metadata": {
    "collapsed": true
   },
   "outputs": [],
   "source": [
    "# 04/20/2009; 04/20/09; 4/20/09; 4/3/09; 4-13-82\n",
    "def format_d1(strlist):\n",
    "    # strlist in the format of [<yy>, <mm>, <dd>] \n",
    "    assert len(strlist) == 3 \n",
    "    # yy without '19' padding\n",
    "    if len(strlist[0]) == 2:\n",
    "        strlist[0] = '19' + strlist[0]  \n",
    "    # mm without '0' padding\n",
    "    if len(strlist[1]) == 1:\n",
    "        strlist[1] = '0' + strlist[1]\n",
    "    # dd without '0' padding\n",
    "    if len(strlist[2]) == 1:\n",
    "        strlist[2] = '0' + strlist[2]\n",
    "    return '{}-{}-{}'.format(strlist[0], strlist[1], strlist[2])"
   ]
  },
  {
   "cell_type": "code",
   "execution_count": 234,
   "metadata": {},
   "outputs": [],
   "source": [
    "d1['dt'] = d1.apply(lambda row: datetime.strptime(format_d1([row['yy'], row['mm'], row['dd']]), '%Y-%m-%d'), axis=1)"
   ]
  },
  {
   "cell_type": "code",
   "execution_count": 246,
   "metadata": {
    "collapsed": true
   },
   "outputs": [],
   "source": [
    "# Mar-20-2009; Mar 20, 2009; March 20, 2009; Mar. 20, 2009; Mar 20 2009\n",
    "# 2 Mar 2009; 20 March 2009; 20 Mar. 2009; 20 March, 2009\n",
    "def format_d2d3(strlist):\n",
    "    # strlist in the format of [<yy>, <mm>, <dd>] \n",
    "    assert len(strlist) == 3 \n",
    "    # yy without '19' padding\n",
    "    if len(strlist[0]) == 2:\n",
    "        strlist[0] = '19' + strlist[0]  \n",
    "    # mm is %b format\n",
    "    strlist[1] = strlist[1][:3]\n",
    "    # dd without '0' padding\n",
    "    if len(strlist[2]) == 1:\n",
    "        strlist[2] = '0' + strlist[2]\n",
    "    return '{}-{}-{}'.format(strlist[0], strlist[1], strlist[2])"
   ]
  },
  {
   "cell_type": "code",
   "execution_count": 242,
   "metadata": {
    "collapsed": true
   },
   "outputs": [],
   "source": [
    "d2['dt'] = d2.apply(lambda row: datetime.strptime(format_d2d3([row['yy'], row['mm'], row['dd']]), '%Y-%b-%d'), axis=1)"
   ]
  },
  {
   "cell_type": "code",
   "execution_count": 243,
   "metadata": {
    "collapsed": true
   },
   "outputs": [],
   "source": [
    "d3['dt'] = d3.apply(lambda row: datetime.strptime(format_d2d3([row['yy'], row['mm'], row['dd']]), '%Y-%b-%d'), axis=1)"
   ]
  },
  {
   "cell_type": "code",
   "execution_count": 275,
   "metadata": {},
   "outputs": [],
   "source": [
    "# d4 is empty"
   ]
  },
  {
   "cell_type": "code",
   "execution_count": 278,
   "metadata": {
    "collapsed": true
   },
   "outputs": [],
   "source": [
    "# Feb 2009; Sep 2009; Oct 2010; December 1998; March, 2006; January 1993\n",
    "def format_d5(strlist):\n",
    "    # strlist in the format of [<yy>, <mm>] \n",
    "    assert len(strlist) == 2 \n",
    "    # yy without '19' padding\n",
    "    if len(strlist[0]) == 2:\n",
    "        strlist[0] = '19' + strlist[0]  \n",
    "    # mm is %b format\n",
    "    strlist[1] = strlist[1][:3]\n",
    "    return '{}-{}-{}'.format(strlist[0], strlist[1], '01')"
   ]
  },
  {
   "cell_type": "code",
   "execution_count": 280,
   "metadata": {},
   "outputs": [],
   "source": [
    "d5['dt'] = d5.apply(lambda row: datetime.strptime(format_d5([row['yy'], row['mm']]), '%Y-%b-%d'), axis=1)"
   ]
  },
  {
   "cell_type": "code",
   "execution_count": 282,
   "metadata": {
    "collapsed": true
   },
   "outputs": [],
   "source": [
    "# 6/2008; 12/2009 (exclude the patterns from d1)\n",
    "def format_d6(strlist):\n",
    "    # strlist in the format of [<yy>, <mm>] \n",
    "    assert len(strlist) == 2 \n",
    "    # yy without '19' padding\n",
    "    if len(strlist[0]) == 2:\n",
    "        strlist[0] = '19' + strlist[0]  \n",
    "    # mm without '0' padding\n",
    "    if len(strlist[1]) == 1:\n",
    "        strlist[1] = '0' + strlist[1]\n",
    "    return '{}-{}-{}'.format(strlist[0], strlist[1], '01')"
   ]
  },
  {
   "cell_type": "code",
   "execution_count": 283,
   "metadata": {
    "collapsed": true
   },
   "outputs": [],
   "source": [
    "d6['dt'] = d6.apply(lambda row: datetime.strptime(format_d6([row['yy'], row['mm']]), '%Y-%m-%d'), axis=1)"
   ]
  },
  {
   "cell_type": "code",
   "execution_count": 287,
   "metadata": {},
   "outputs": [],
   "source": [
    "# 1984 (exclude the patterns from d1 to d6)\n",
    "def format_d7(strlist):\n",
    "    # strlist in the format of [<yy>] \n",
    "    assert len(strlist) == 1\n",
    "    # yy without '19' padding\n",
    "    if len(strlist[0]) == 2:\n",
    "        strlist[0] = '19' + strlist[0]  \n",
    "    return '{}-{}-{}'.format(strlist[0], '01', '01')"
   ]
  },
  {
   "cell_type": "code",
   "execution_count": 288,
   "metadata": {},
   "outputs": [],
   "source": [
    "d7['dt'] = d7.apply(lambda row: datetime.strptime(format_d7([row['yy']]), '%Y-%m-%d'), axis=1)"
   ]
  },
  {
   "cell_type": "code",
   "execution_count": 301,
   "metadata": {},
   "outputs": [],
   "source": [
    "dt = pd.Series(d1['dt']).append(d2['dt']).append(d3['dt']).append(d5['dt']).append(d6['dt']).append(d7['dt'])"
   ]
  },
  {
   "cell_type": "code",
   "execution_count": 313,
   "metadata": {},
   "outputs": [],
   "source": [
    "dt_sorted = dt.sort_values()\n",
    "answer = pd.Series(dt_sorted.index)"
   ]
  },
  {
   "cell_type": "code",
   "execution_count": 311,
   "metadata": {
    "collapsed": true
   },
   "outputs": [],
   "source": [
    "def date_sorter():  \n",
    "    return pd.Series([9, 84, 2, 53, 28, 474, 153, 13, 129, 98, 111, 225, 31, 171, 191, 486, 415, 335, 36, 323, 405, 422, 375, 380, 345, 57, 481, 436, 104, 299, 162, 154, 402, 95, 73, 108, 156, 332, 182, 82, 351, 278, 214, 155, 223, 473, 49, 317, 11, 319, 40, 418, 165, 382, 370, 3, 50, 363, 219, 465, 237, 23, 342, 204, 258, 315, 27, 93, 17, 303, 488, 395, 283, 309, 419, 123, 19, 117, 232, 72, 189, 318, 493, 369, 239, 148, 105, 336, 6, 200, 81, 65, 434, 164, 378, 313, 495, 424, 398, 5, 254, 296, 75, 167, 21, 259, 499, 347, 150, 78, 340, 441, 267, 361, 221, 466, 134, 39, 197, 355, 430, 80, 444, 246, 85, 215, 263, 74, 403, 458, 16, 25, 127, 454, 70, 44, 59, 103, 112, 429, 88, 179, 358, 470, 205, 397, 294, 137, 295, 35, 438, 247, 209, 61, 107, 285, 175, 99, 455, 24, 421, 275, 48, 426, 489, 136, 30, 274, 10, 178, 1, 280, 447, 185, 228, 135, 69, 492, 199, 352, 8, 276, 230, 334, 96, 38, 368, 261, 404, 168, 29, 437, 423, 54, 485, 284, 68, 32, 349, 41, 63, 416, 55, 130, 116, 76, 462, 330, 37, 256, 390, 216, 174, 180, 476, 312, 265, 115, 71, 218, 202, 440, 385, 373, 210, 89, 149, 26, 7, 435, 482, 177, 157, 412, 22, 194, 14, 151, 233, 206, 245, 122, 94, 461, 226, 97, 91, 51, 33, 453, 67, 46, 322, 66, 399, 487, 138, 62, 211, 52, 269, 119, 100, 442, 310, 143, 301, 113, 298, 478, 272, 354, 0, 249, 192, 86, 172, 357, 331, 477, 300, 450, 163, 308, 196, 47, 133, 359, 64, 42, 409, 406, 238, 483, 193, 311, 140, 388, 56, 236, 372, 110, 248, 60, 181, 203, 326, 90, 169, 292, 479, 142, 4, 124, 324, 121, 131, 166, 468, 365, 213, 87, 353, 101, 333, 114, 459, 45, 338, 18, 222, 343, 20, 224, 12, 79, 387, 251, 120, 471, 77, 376, 432, 327, 384, 321, 212, 407, 266, 145, 201, 456, 260, 305, 420, 329, 392, 417, 190, 158, 443, 83, 374, 457, 125, 328, 159, 147, 195, 377, 367, 394, 494, 304, 446, 43, 262, 128, 102, 449, 184, 469, 452, 234, 362, 356, 144, 484, 291, 188, 414, 92, 350, 306, 241, 425, 281, 207, 126, 302, 146, 451, 498, 339, 250, 344, 346, 348, 496, 106, 118, 433, 270, 307, 173, 490, 410, 252, 314, 391, 277, 325, 264, 289, 160, 341, 132, 337, 428, 445, 497, 187, 183, 396, 271, 293, 400, 360, 491, 297, 371, 389, 386, 288, 379, 268, 472, 273, 287, 448, 176, 411, 408, 364, 242, 58, 467, 170, 15, 316, 240, 229, 217, 109, 227, 290, 460, 393, 282, 34, 220, 243, 208, 139, 320, 383, 480, 244, 286, 431, 279, 198, 463, 381, 366, 439, 255, 401, 475, 257, 152, 235, 464, 253, 427, 231, 141, 186, 161, 413])"
   ]
  }
 ],
 "metadata": {
  "coursera": {
   "course_slug": "python-text-mining",
   "graded_item_id": "LvcWI",
   "launcher_item_id": "krne9",
   "part_id": "Mkp1I"
  },
  "kernelspec": {
   "display_name": "Python [default]",
   "language": "python",
   "name": "python3"
  },
  "language_info": {
   "codemirror_mode": {
    "name": "ipython",
    "version": 3
   },
   "file_extension": ".py",
   "mimetype": "text/x-python",
   "name": "python",
   "nbconvert_exporter": "python",
   "pygments_lexer": "ipython3",
   "version": "3.5.3"
  }
 },
 "nbformat": 4,
 "nbformat_minor": 2
}
